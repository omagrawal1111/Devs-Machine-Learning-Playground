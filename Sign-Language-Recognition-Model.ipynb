{
  "nbformat": 4,
  "nbformat_minor": 0,
  "metadata": {
    "colab": {
      "name": "Sign-Language-Recognition-Model.ipynb",
      "provenance": [],
      "mount_file_id": "1bkCujHkjnBPrfAWt0gB5Bl0LHhD20VAF",
      "authorship_tag": "ABX9TyNUkMC/Lqno6p6CGVsnURE/"
    },
    "kernelspec": {
      "name": "python3",
      "display_name": "Python 3"
    },
    "language_info": {
      "name": "python"
    }
  },
  "cells": [
    {
      "cell_type": "code",
      "metadata": {
        "id": "pM3utND6hWWv"
      },
      "source": [
        "import numpy as np #liner algebra\n",
        "import pandas as pd #Data Processing"
      ],
      "execution_count": 4,
      "outputs": []
    },
    {
      "cell_type": "code",
      "metadata": {
        "colab": {
          "base_uri": "https://localhost:8080/"
        },
        "id": "0TjOWJ3ch5yt",
        "outputId": "cd8b675f-c79f-439b-ea88-c4370e9d3d67"
      },
      "source": [
        "import os \n",
        "for dirname, _,filenames in os.walk(r'/content/drive/MyDrive/Dataset'):\n",
        "    for filename in filenames:\n",
        "        print(os.path.join(dirname, filename))"
      ],
      "execution_count": 1,
      "outputs": [
        {
          "output_type": "stream",
          "text": [
            "/content/drive/MyDrive/Dataset/amer_sign2.png\n",
            "/content/drive/MyDrive/Dataset/american_sign_language.PNG\n",
            "/content/drive/MyDrive/Dataset/amer_sign3.png\n",
            "/content/drive/MyDrive/Dataset/sign_mnist_test.csv\n",
            "/content/drive/MyDrive/Dataset/sign_mnist_train.csv\n",
            "/content/drive/MyDrive/Dataset/sign_mnist_test/sign_mnist_test.csv\n",
            "/content/drive/MyDrive/Dataset/sign_mnist_train/sign_mnist_train.csv\n"
          ],
          "name": "stdout"
        }
      ]
    },
    {
      "cell_type": "code",
      "metadata": {
        "id": "aGbM1E0tidfZ"
      },
      "source": [
        "import pandas as pd \n",
        "train_csv = pd.read_csv(r'/content/drive/MyDrive/Dataset/sign_mnist_train/sign_mnist_train.csv')\n",
        "test_csv = pd.read_csv(r'/content/drive/MyDrive/Dataset/sign_mnist_test/sign_mnist_test.csv')"
      ],
      "execution_count": 3,
      "outputs": []
    },
    {
      "cell_type": "markdown",
      "metadata": {
        "id": "VR2J9S5vi2MW"
      },
      "source": [
        "**Create X_train (images) and Y_train (labels)**"
      ]
    },
    {
      "cell_type": "code",
      "metadata": {
        "id": "8UVhH5Lqi2Xk"
      },
      "source": [
        "labels = []\n",
        "images =[]\n",
        "for row in train_csv.iterrows():\n",
        "    label = row[1][0]\n",
        "    image = np.array_split(row[1][1:],28)\n",
        "    labels.append(label)\n",
        "    images.append(image)\n"
      ],
      "execution_count": 5,
      "outputs": []
    },
    {
      "cell_type": "markdown",
      "metadata": {
        "id": "aMMYMI-U5JyW"
      },
      "source": [
        "**Get the number of unique classes**"
      ]
    },
    {
      "cell_type": "code",
      "metadata": {
        "colab": {
          "base_uri": "https://localhost:8080/"
        },
        "id": "9mJmZDxtjRBl",
        "outputId": "2bc10f94-0497-4172-902e-fc4b6e81bda4"
      },
      "source": [
        "num_classes = len(np.unique(labels))\n",
        "\n",
        "labels = np.array(labels)\n",
        "images = np.array(images)\n",
        "print(labels.shape)\n",
        "print(images.shape)"
      ],
      "execution_count": 6,
      "outputs": [
        {
          "output_type": "stream",
          "text": [
            "(27455,)\n",
            "(27455, 28, 28)\n"
          ],
          "name": "stdout"
        }
      ]
    },
    {
      "cell_type": "markdown",
      "metadata": {
        "id": "eaxJexNhjfPM"
      },
      "source": [
        "**Expand dims for these 2 np arrays so that they can be set as input to TF model**"
      ]
    },
    {
      "cell_type": "code",
      "metadata": {
        "colab": {
          "base_uri": "https://localhost:8080/"
        },
        "id": "nLSr1Toxjlzs",
        "outputId": "a16fe2c7-20c3-4462-ec3c-e3bfa9f211de"
      },
      "source": [
        "labels = np.expand_dims(labels,axis=1)\n",
        "images = np.expand_dims(images,axis=3)\n",
        "print(labels.shape)\n",
        "print(images.shape)\n"
      ],
      "execution_count": 7,
      "outputs": [
        {
          "output_type": "stream",
          "text": [
            "(27455, 1)\n",
            "(27455, 28, 28, 1)\n"
          ],
          "name": "stdout"
        }
      ]
    },
    {
      "cell_type": "markdown",
      "metadata": {
        "id": "RlZQ9gzDkPpE"
      },
      "source": [
        "**Create X_test (images) and Y_test (labels); we will also use this for Validation**"
      ]
    },
    {
      "cell_type": "code",
      "metadata": {
        "colab": {
          "base_uri": "https://localhost:8080/"
        },
        "id": "7Fn-AwcEkSJE",
        "outputId": "cca3dadf-4b28-4c67-b792-83a9220d92cd"
      },
      "source": [
        "labels_test = []\n",
        "images_test = []\n",
        "for row in test_csv.iterrows():\n",
        "    label = row[1][0]\n",
        "    image = np.array_split(row[1][1:],28)\n",
        "    labels_test.append(label)\n",
        "    images_test.append(image)\n",
        "\n",
        "labels_test = np.array(labels_test)\n",
        "images_test = np.array(images_test)\n",
        "print(labels_test.shape)\n",
        "print(images_test.shape)\n"
      ],
      "execution_count": 8,
      "outputs": [
        {
          "output_type": "stream",
          "text": [
            "(7172,)\n",
            "(7172, 28, 28)\n"
          ],
          "name": "stdout"
        }
      ]
    },
    {
      "cell_type": "markdown",
      "metadata": {
        "id": "wqTvJvVkkj3u"
      },
      "source": [
        "**Expand dims for these 2 np arrays so that they can be set as input to TF model**"
      ]
    },
    {
      "cell_type": "code",
      "metadata": {
        "colab": {
          "base_uri": "https://localhost:8080/"
        },
        "id": "LoaPx6uZkl1s",
        "outputId": "d6996a58-bcf1-49ce-928f-b54055727ae1"
      },
      "source": [
        "labels_test = np.expand_dims(labels_test,axis=1)\n",
        "images_test = np.expand_dims(images_test,axis=3)\n",
        "print(labels_test.shape)\n",
        "print(images_test.shape)"
      ],
      "execution_count": 9,
      "outputs": [
        {
          "output_type": "stream",
          "text": [
            "(7172, 1)\n",
            "(7172, 28, 28, 1)\n"
          ],
          "name": "stdout"
        }
      ]
    },
    {
      "cell_type": "markdown",
      "metadata": {
        "id": "-LszyLNTktUb"
      },
      "source": [
        "**Convert from str to FLoat**"
      ]
    },
    {
      "cell_type": "code",
      "metadata": {
        "id": "eQ_uQ-2xkwgW"
      },
      "source": [
        "X_train = images.astype(float)\n",
        "Y_train = labels.astype(float)\n",
        "X_test = images_test.astype(float)\n",
        "Y_test = labels_test.astype(float)"
      ],
      "execution_count": 10,
      "outputs": []
    },
    {
      "cell_type": "markdown",
      "metadata": {
        "id": "_azj_3GalAye"
      },
      "source": [
        "**Split the training and test sets**"
      ]
    },
    {
      "cell_type": "code",
      "metadata": {
        "colab": {
          "base_uri": "https://localhost:8080/"
        },
        "id": "0ok8wjX8k4Mr",
        "outputId": "5f21e8ae-b5e9-4056-f072-88ebe72af7a2"
      },
      "source": [
        "from sklearn.model_selection import train_test_split\n",
        "X_train, X_validate, Y_train, Y_validate = train_test_split(X_train, Y_train, test_size = 0.2, random_state = 12345)\n",
        "print(X_train.shape)\n",
        "print(X_validate.shape)\n",
        "print(X_test.shape)\n",
        "print(Y_train.shape)\n",
        "print(Y_validate.shape)\n",
        "print(Y_test.shape)"
      ],
      "execution_count": 11,
      "outputs": [
        {
          "output_type": "stream",
          "text": [
            "(21964, 28, 28, 1)\n",
            "(5491, 28, 28, 1)\n",
            "(7172, 28, 28, 1)\n",
            "(21964, 1)\n",
            "(5491, 1)\n",
            "(7172, 1)\n"
          ],
          "name": "stdout"
        }
      ]
    },
    {
      "cell_type": "markdown",
      "metadata": {
        "id": "oIXqKffrlMSn"
      },
      "source": [
        "**Create a Image Generator for X_train**"
      ]
    },
    {
      "cell_type": "code",
      "metadata": {
        "id": "0zhhXkP0lGlp"
      },
      "source": [
        "import tensorflow as tf\n",
        "from tensorflow.keras.preprocessing.image import ImageDataGenerator\n",
        "train_datagen = ImageDataGenerator(rescale=1/255,rotation_range=45, width_shift_range=0.25,\n",
        "    height_shift_range=0.15,shear_range=0.15, zoom_range=0.2, fill_mode='nearest')\n",
        "test_datagen = ImageDataGenerator(rescale=1/255)\n",
        "valid_datagen = ImageDataGenerator(rescale=1/255)\n",
        "train_generator = train_datagen.flow(X_train, Y_train, batch_size=32)\n",
        "test_generator =  test_datagen.flow(X_test,Y_test,batch_size=32)\n",
        "valid_generator = valid_datagen.flow(X_validate,Y_validate,batch_size=32)"
      ],
      "execution_count": 12,
      "outputs": []
    },
    {
      "cell_type": "markdown",
      "metadata": {
        "id": "0TEouoNxlhZ0"
      },
      "source": [
        "**Define and compile the TF Model**"
      ]
    },
    {
      "cell_type": "code",
      "metadata": {
        "id": "EMaWVnsRlkHQ"
      },
      "source": [
        "import tensorflow as tf\n",
        "\n",
        "model = tf.keras.Sequential(\n",
        "[\n",
        "    tf.keras.layers.Conv2D(16, (3,3), padding='same', activation=tf.nn.relu,\n",
        "                           input_shape=(28, 28, 1)),\n",
        "    tf.keras.layers.MaxPooling2D((2,2)),\n",
        "    tf.keras.layers.Conv2D(32, (3,3), padding='same', activation=tf.nn.relu),\n",
        "    tf.keras.layers.MaxPooling2D((2,2)),\n",
        "    tf.keras.layers.Conv2D(64, (3,3), padding='same', activation=tf.nn.relu),\n",
        "    tf.keras.layers.MaxPooling2D((2,2)),\n",
        "     tf.keras.layers.Conv2D(128, (3,3), padding='same', activation=tf.nn.relu),\n",
        "    tf.keras.layers.MaxPooling2D((2,2)),\n",
        "    tf.keras.layers.Flatten(),\n",
        "    tf.keras.layers.Dense(64, activation=tf.nn.relu),\n",
        "    tf.keras.layers.Dense(num_classes, activation=tf.nn.softmax)\n",
        "])\n"
      ],
      "execution_count": 13,
      "outputs": []
    },
    {
      "cell_type": "markdown",
      "metadata": {
        "id": "12U3LB4gnbDe"
      },
      "source": [
        "**!!!!! IF YOU USE ADAM , THE ACCURACY STAYS AT 0 , USE SGD OPTIMIZER !!!**\n",
        "\n"
      ]
    },
    {
      "cell_type": "code",
      "metadata": {
        "colab": {
          "base_uri": "https://localhost:8080/"
        },
        "id": "zO_fA8jHneEK",
        "outputId": "825d66ab-c515-483b-a72e-f79eb05a5120"
      },
      "source": [
        "model.compile(optimizer='SGD',loss='categorical_crossentropy',metrics = ['accuracy'])\n",
        "model.summary()"
      ],
      "execution_count": 14,
      "outputs": [
        {
          "output_type": "stream",
          "text": [
            "Model: \"sequential\"\n",
            "_________________________________________________________________\n",
            "Layer (type)                 Output Shape              Param #   \n",
            "=================================================================\n",
            "conv2d (Conv2D)              (None, 28, 28, 16)        160       \n",
            "_________________________________________________________________\n",
            "max_pooling2d (MaxPooling2D) (None, 14, 14, 16)        0         \n",
            "_________________________________________________________________\n",
            "conv2d_1 (Conv2D)            (None, 14, 14, 32)        4640      \n",
            "_________________________________________________________________\n",
            "max_pooling2d_1 (MaxPooling2 (None, 7, 7, 32)          0         \n",
            "_________________________________________________________________\n",
            "conv2d_2 (Conv2D)            (None, 7, 7, 64)          18496     \n",
            "_________________________________________________________________\n",
            "max_pooling2d_2 (MaxPooling2 (None, 3, 3, 64)          0         \n",
            "_________________________________________________________________\n",
            "conv2d_3 (Conv2D)            (None, 3, 3, 128)         73856     \n",
            "_________________________________________________________________\n",
            "max_pooling2d_3 (MaxPooling2 (None, 1, 1, 128)         0         \n",
            "_________________________________________________________________\n",
            "flatten (Flatten)            (None, 128)               0         \n",
            "_________________________________________________________________\n",
            "dense (Dense)                (None, 64)                8256      \n",
            "_________________________________________________________________\n",
            "dense_1 (Dense)              (None, 24)                1560      \n",
            "=================================================================\n",
            "Total params: 106,968\n",
            "Trainable params: 106,968\n",
            "Non-trainable params: 0\n",
            "_________________________________________________________________\n"
          ],
          "name": "stdout"
        }
      ]
    },
    {
      "cell_type": "code",
      "metadata": {
        "colab": {
          "base_uri": "https://localhost:8080/"
        },
        "id": "DnD0ipePnkai",
        "outputId": "624a9d7a-4f0a-4a9c-bbe8-42f34eeee208"
      },
      "source": [
        "history = model.fit(train_generator,\n",
        "                    epochs=500,\n",
        "                    validation_data=valid_generator,\n",
        "                    callbacks = [\n",
        "    tf.keras.callbacks.EarlyStopping(monitor='loss', patience=10),\n",
        "    tf.keras.callbacks.ModelCheckpoint(filepath='/kaggle/working/',\n",
        "    monitor='val_accuracy',\n",
        "    save_best_only=True)\n",
        "])"
      ],
      "execution_count": 15,
      "outputs": [
        {
          "output_type": "stream",
          "text": [
            "Epoch 1/500\n",
            "687/687 [==============================] - 30s 42ms/step - loss: nan - accuracy: 0.9650 - val_loss: nan - val_accuracy: 1.0000\n",
            "INFO:tensorflow:Assets written to: /kaggle/working/assets\n",
            "Epoch 2/500\n",
            "687/687 [==============================] - 29s 42ms/step - loss: nan - accuracy: 1.0000 - val_loss: nan - val_accuracy: 1.0000\n",
            "Epoch 3/500\n",
            "687/687 [==============================] - 29s 42ms/step - loss: nan - accuracy: 1.0000 - val_loss: nan - val_accuracy: 1.0000\n",
            "Epoch 4/500\n",
            "687/687 [==============================] - 28s 41ms/step - loss: nan - accuracy: 1.0000 - val_loss: nan - val_accuracy: 1.0000\n",
            "Epoch 5/500\n",
            "687/687 [==============================] - 28s 41ms/step - loss: nan - accuracy: 1.0000 - val_loss: nan - val_accuracy: 1.0000\n",
            "Epoch 6/500\n",
            "687/687 [==============================] - 29s 42ms/step - loss: nan - accuracy: 1.0000 - val_loss: nan - val_accuracy: 1.0000\n",
            "Epoch 7/500\n",
            "687/687 [==============================] - 29s 42ms/step - loss: nan - accuracy: 1.0000 - val_loss: nan - val_accuracy: 1.0000\n",
            "Epoch 8/500\n",
            "687/687 [==============================] - 30s 44ms/step - loss: nan - accuracy: 1.0000 - val_loss: nan - val_accuracy: 1.0000\n",
            "Epoch 9/500\n",
            "687/687 [==============================] - 29s 43ms/step - loss: nan - accuracy: 1.0000 - val_loss: nan - val_accuracy: 1.0000\n",
            "Epoch 10/500\n",
            "687/687 [==============================] - 30s 43ms/step - loss: nan - accuracy: 1.0000 - val_loss: nan - val_accuracy: 1.0000\n"
          ],
          "name": "stdout"
        }
      ]
    },
    {
      "cell_type": "markdown",
      "metadata": {
        "id": "AJPNz6VfntgX"
      },
      "source": [
        "**Plot the chart for accuracy and loss on both training and validation**"
      ]
    },
    {
      "cell_type": "code",
      "metadata": {
        "colab": {
          "base_uri": "https://localhost:8080/",
          "height": 545
        },
        "id": "6OomjWp7nqQ7",
        "outputId": "251909e1-1a6b-493e-ddbe-4ae69450d052"
      },
      "source": [
        "%matplotlib inline\n",
        "import matplotlib.pyplot as plt\n",
        "acc = history.history['accuracy']# Your Code Here\n",
        "val_acc =history.history['val_accuracy'] # Your Code Here\n",
        "loss = history.history['loss']# Your Code Here\n",
        "val_loss = history.history['val_loss']# Your Code Here\n",
        "\n",
        "epochs = range(len(acc))\n",
        "\n",
        "plt.plot(epochs, acc, 'r', label='Training accuracy')\n",
        "plt.plot(epochs, val_acc, 'b', label='Validation accuracy')\n",
        "plt.title('Training and validation accuracy')\n",
        "plt.legend()\n",
        "plt.figure()\n",
        "\n",
        "plt.plot(epochs, loss, 'r', label='Training Loss')\n",
        "plt.plot(epochs, val_loss, 'b', label='Validation Loss')\n",
        "plt.title('Training and validation loss')\n",
        "plt.legend()\n",
        "\n",
        "plt.show()"
      ],
      "execution_count": 16,
      "outputs": [
        {
          "output_type": "display_data",
          "data": {
            "image/png": "[encoded data removed]",
            "text/plain": [
              "<Figure size 432x288 with 1 Axes>"
            ]
          },
          "metadata": {
            "tags": [],
            "needs_background": "light"
          }
        },
        {
          "output_type": "display_data",
          "data": {
            "image/png": "[encoded data removed]",
            "text/plain": [
              "<Figure size 432x288 with 1 Axes>"
            ]
          },
          "metadata": {
            "tags": [],
            "needs_background": "light"
          }
        }
      ]
    },
    {
      "cell_type": "code",
      "metadata": {
        "colab": {
          "base_uri": "https://localhost:8080/"
        },
        "id": "3iHsRcOEqgMs",
        "outputId": "03f6e41e-f35a-41c3-e841-fe2652c86bd0"
      },
      "source": [
        "score = model.evaluate(test_generator, verbose = 0) \n",
        "print('Test loss:', score[0])\n",
        "print('Test accuracy:', score[1])"
      ],
      "execution_count": 17,
      "outputs": [
        {
          "output_type": "stream",
          "text": [
            "Test loss: nan\n",
            "Test accuracy: 1.0\n"
          ],
          "name": "stdout"
        }
      ]
    }
  ]
}